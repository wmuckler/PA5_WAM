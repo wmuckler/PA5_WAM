{
 "cells": [
  {
   "cell_type": "code",
   "execution_count": null,
   "id": "32402c00-2055-4b46-9da1-6a07a265286b",
   "metadata": {},
   "outputs": [],
   "source": [
    "#language translator: if word isn't in dictionary, let user know. Define dictionary, define code to use it, no function required. "
   ]
  },
  {
   "cell_type": "markdown",
   "id": "a1371ec4-352b-4b7b-b23f-79e145368d42",
   "metadata": {
    "tags": []
   },
   "source": [
    "# Programming Assignment 5\n",
    "---\n",
    "**Author:** William Muckler  \n",
    "**Version:** 1.0  \n",
    "**Semester:** Spring 2024 \n",
    "\n",
    "This *notebook* contains my solution(s) to **Programming Assignment 5**\n"
   ]
  },
  {
   "cell_type": "markdown",
   "id": "27919f8c-ebe0-4379-bbb0-1be3188f56cd",
   "metadata": {},
   "source": [
    "### Problem 1- Language Translator"
   ]
  },
  {
   "cell_type": "code",
   "execution_count": 15,
   "id": "faae8a7c-9764-43ee-ad53-c8294f18d592",
   "metadata": {
    "collapsed": true,
    "jupyter": {
     "outputs_hidden": true
    },
    "tags": []
   },
   "outputs": [
    {
     "name": "stdin",
     "output_type": "stream",
     "text": [
      "Enter a word to translate from English to Spanish:  yes\n"
     ]
    },
    {
     "name": "stdout",
     "output_type": "stream",
     "text": [
      "The Spanish word for yes is si.\n"
     ]
    },
    {
     "name": "stdin",
     "output_type": "stream",
     "text": [
      "Enter a word to translate from English to Spanish:  Q\n"
     ]
    }
   ],
   "source": [
    "translationEtoS = {\n",
    "    'yes': 'si',\n",
    "    'no': 'no',\n",
    "    'me': 'me',\n",
    "    'he': 'el',\n",
    "    'she': 'ella',\n",
    "    'you': 'tu',\n",
    "    'year': 'ano',\n",
    "    'country': 'pais',\n",
    "    'time': 'tiempo',\n",
    "    'part': 'parte',\n",
    "    'life': 'vida',\n",
    "    'occasion': 'vez',\n",
    "    'day': 'dia',\n",
    "    'new': 'nueva',\n",
    "    'big': 'grande',\n",
    "    'good': 'bueno',\n",
    "    'last': 'ultimo',\n",
    "    'greater': 'mayor',\n",
    "    'national': 'nacional',\n",
    "    'better': 'mejor',\n",
    "}\n",
    "\n",
    "while True:\n",
    "    word = input(\"Enter a word to translate from English to Spanish: \")\n",
    "    if word == 'Q':\n",
    "        break\n",
    "    elif word.lower() in translationEtoS:\n",
    "        translation = translation_dict[word.lower()]\n",
    "        print(f\"The Spanish word for {word} is {translation}.\")\n",
    "    else:\n",
    "        print(f\"The Spanish word for {word} is not in this dictionary.\")"
   ]
  },
  {
   "cell_type": "markdown",
   "id": "fd2cf6b9-a1c6-43a5-b658-9751a80c7a07",
   "metadata": {},
   "source": [
    "### Problem 2- Translating Morse Code"
   ]
  },
  {
   "cell_type": "code",
   "execution_count": 18,
   "id": "8aa0f11a-4876-4c47-86a8-b33165cf9f24",
   "metadata": {},
   "outputs": [],
   "source": [
    "morse_code_dict = {\n",
    "    'A': '.-', \n",
    "    'B': '-...', \n",
    "    'C': '-.-.', \n",
    "    'D': '-..', \n",
    "    'E': '.', \n",
    "    'F': '..-.', \n",
    "    'G': '--.', \n",
    "    'H': '....', \n",
    "    'I': '..', \n",
    "    'J': '.---',\n",
    "    'K': '-.-', \n",
    "    'L': '.-..', \n",
    "    'M': '--', \n",
    "    'N': '-.', \n",
    "    'O': '---', \n",
    "    'P': '.--.', \n",
    "    'Q': '--.-', \n",
    "    'R': '.-.', \n",
    "    'S': '...', \n",
    "    'T': '-',\n",
    "    'U': '..-', \n",
    "    'V': '...-', \n",
    "    'W': '.--', \n",
    "    'X': '-..-', \n",
    "    'Y': '-.--', \n",
    "    'Z': '--..',\n",
    "    '0': '-----', \n",
    "    '1': '.----', \n",
    "    '2': '..---', \n",
    "    '3': '...--', \n",
    "    '4': '....-', \n",
    "    '5': '.....',\n",
    "    '6': '-....', \n",
    "    '7': '--...', \n",
    "    '8': '---..', \n",
    "    '9': '----.'\n",
    "}"
   ]
  },
  {
   "cell_type": "code",
   "execution_count": 29,
   "id": "b742131e-cab8-46c4-b204-75df15b33515",
   "metadata": {
    "tags": []
   },
   "outputs": [
    {
     "name": "stdin",
     "output_type": "stream",
     "text": [
      "Enter a message:  dd\n"
     ]
    },
    {
     "name": "stdout",
     "output_type": "stream",
     "text": [
      "English to Morse Code: -.. -..\n"
     ]
    },
    {
     "name": "stdin",
     "output_type": "stream",
     "text": [
      "Enter a message:  q\n"
     ]
    },
    {
     "name": "stdout",
     "output_type": "stream",
     "text": [
      "Done.\n"
     ]
    }
   ],
   "source": [
    "\n",
    "def morse_translate(sentence):\n",
    "    morse_code_sentence = \"\"\n",
    "    for english in sentence.upper():\n",
    "        if english in morse_code_dict:\n",
    "            morse_code_sentence += morse_code_dict[char] + \" \"\n",
    "while True:\n",
    "    message = input(\"Enter a message: \")\n",
    "    if message.lower() == 'q':\n",
    "        print(\"Done.\")\n",
    "        break\n",
    "    morse_code = translate_to_morse(message)\n",
    "    print(\"English to Morse Code:\", morse_code)"
   ]
  },
  {
   "cell_type": "markdown",
   "id": "c05e9702-ee83-41af-908e-cb97dec8c253",
   "metadata": {
    "tags": []
   },
   "source": [
    "### Problem 3- Comparing Majors/Minors"
   ]
  },
  {
   "cell_type": "code",
   "execution_count": 37,
   "id": "0e746d3b-df9c-4556-8f49-1491d9892586",
   "metadata": {},
   "outputs": [],
   "source": [
    "computer_science_minor = {'CS130', 'CS131', 'CS215'}\n",
    "business_administration_minor = {'BUSA103', 'BUSA203', 'BUSA301','BUSA305'}\n",
    "business_analytics_minor = {'BUSA103', 'BUSA245', 'BUSA346','CS150','DS160','DS300'}\n",
    "data_science_major = {'BUSA103', 'BUSA245', 'BUSA346','CS150','DS160','DS300','DS450','MATH205','MATH215','MATH430','ECON410'}"
   ]
  },
  {
   "cell_type": "code",
   "execution_count": 38,
   "id": "c150ea37-58a8-48f0-a1e4-c37e8e2df43b",
   "metadata": {
    "tags": []
   },
   "outputs": [
    {
     "name": "stdout",
     "output_type": "stream",
     "text": [
      "Courses overlapping between Business Administration and Business Analytics minors: {'BUSA103'}\n",
      "All courses for a student minoring in Business Administration and Computer Science: {'BUSA301', 'BUSA203', 'BUSA305', 'CS131', 'CS215', 'BUSA103', 'CS130'}\n",
      "Courses in Business Administration minor but not in Business Analytics minor: {'BUSA301', 'BUSA305', 'BUSA203'}\n",
      "Overlap between Computer Science major and Data Science major: set()\n",
      "Business Analytics minor subsumed by Data Science major: True\n"
     ]
    }
   ],
   "source": [
    "ba_ba = business_administration_minor.intersection(business_analytics_minor)\n",
    "print(\"Courses overlapping between Business Administration and Business Analytics minors:\", ba_ba)\n",
    "\n",
    "cs_ba = computer_science_minor.union(business_administration_minor)\n",
    "print(\"All courses for a student minoring in Business Administration and Computer Science:\", cs_ba)\n",
    "\n",
    "ba_ba = business_administration_minor.difference(business_analytics_minor)\n",
    "print(\"Courses in Business Administration minor but not in Business Analytics minor:\", ba_ba)\n",
    "\n",
    "overlap = computer_science_minor.intersection(data_science_major)\n",
    "print(\"Overlap between Computer Science major and Data Science major:\", overlap)\n",
    "\n",
    "ba_ds = business_analytics_minor.issubset(data_science_major)\n",
    "print(\"Business Analytics minor subsumed by Data Science major:\", ba_ds)"
   ]
  },
  {
   "cell_type": "markdown",
   "id": "72d1bb22-cd62-43b0-b92a-f6b042e48511",
   "metadata": {},
   "source": [
    "### Problem 4- Working with NumPy"
   ]
  },
  {
   "cell_type": "code",
   "execution_count": 48,
   "id": "f126b6c8-9a4a-4b51-b7dc-089e53089ef1",
   "metadata": {
    "tags": []
   },
   "outputs": [],
   "source": [
    "import numpy as np\n",
    "import random"
   ]
  },
  {
   "cell_type": "code",
   "execution_count": 50,
   "id": "94cf6339-6c2d-4ff0-9e1c-09a4ac205dc5",
   "metadata": {},
   "outputs": [
    {
     "name": "stdout",
     "output_type": "stream",
     "text": [
      "[[ 253  139  197  122  209]\n",
      " [ 275  454  287  378  242]\n",
      " [ 297  573  325  394  272]\n",
      " [ 351  686  363  470  338]\n",
      " [ 372 1030  475  809  366]]\n",
      "1744\n",
      "-31833.00000000001\n",
      "[[ 0.40589954 -0.6385826   0.00097383 -0.14261929  0.34055854]\n",
      " [ 0.42531335 -0.67609085  0.10109006 -0.12738353  0.28765746]\n",
      " [-0.31731222  0.5256809   0.01897402  0.02767568 -0.20331103]\n",
      " [ 0.04127792  0.03675431  0.00574875 -0.00320422 -0.0218641 ]\n",
      " [-0.51371219  0.72066723 -0.11035718  0.29101875 -0.36716615]]\n",
      "34091.999999999935\n",
      "[[-0.01267159 -0.19324182 -0.01627948  0.27252728  0.27833509]\n",
      " [-0.05667019  0.05244632  0.00821307 -0.04740115  0.07579491]\n",
      " [-0.18409011  0.27595917  0.18247683 -0.27458055 -0.28742814]\n",
      " [ 0.13833157 -0.14044351 -0.02367124  0.11518831  0.01011968]\n",
      " [ 0.16015488  0.02569518 -0.13915288 -0.02546052 -0.11275373]]\n",
      "[0.         0.05263158 0.10526316 0.15789474 0.21052632 0.26315789\n",
      " 0.31578947 0.36842105 0.42105263 0.47368421 0.52631579 0.57894737\n",
      " 0.63157895 0.68421053 0.73684211 0.78947368 0.84210526 0.89473684\n",
      " 0.94736842 1.         1.         1.05263158 1.10526316 1.15789474\n",
      " 1.21052632 1.26315789 1.31578947 1.36842105 1.42105263 1.47368421\n",
      " 1.52631579 1.57894737 1.63157895 1.68421053 1.73684211 1.78947368\n",
      " 1.84210526 1.89473684 1.94736842 2.        ]\n",
      "[[0.         0.05263158 0.10526316 0.15789474]\n",
      " [0.21052632 0.26315789 0.31578947 0.36842105]\n",
      " [0.42105263 0.47368421 0.52631579 0.57894737]\n",
      " [0.63157895 0.68421053 0.73684211 0.78947368]\n",
      " [0.84210526 0.89473684 0.94736842 1.        ]\n",
      " [1.         1.05263158 1.10526316 1.15789474]\n",
      " [1.21052632 1.26315789 1.31578947 1.36842105]\n",
      " [1.42105263 1.47368421 1.52631579 1.57894737]\n",
      " [1.63157895 1.68421053 1.73684211 1.78947368]\n",
      " [1.84210526 1.89473684 1.94736842 2.        ]]\n"
     ]
    }
   ],
   "source": [
    "x = np.random.randint(0, 21, size=(5, 5))\n",
    "y = np.random.randint(0, 21, size=(5, 5))\n",
    "\n",
    "matrix_product = np.matmul(array1, array2)\n",
    "dot_product = np.dot(array1.flatten(), array2.flatten())\n",
    "print(matrix_product)\n",
    "print(dot_product)\n",
    "\n",
    "determinantx = np.linalg.det(array1)\n",
    "inversex = np.linalg.inv(array1)\n",
    "determinanty = np.linalg.det(array2)\n",
    "inversey = np.linalg.inv(array2)\n",
    "print(det_array1)\n",
    "print(inversex)\n",
    "print(determinanty)\n",
    "print(inversey)\n",
    "\n",
    "arraya = np.linspace(0, 1, 20)\n",
    "arrayz = np.linspace(1, 2, 20)\n",
    "arrayaz = np.concatenate((arraya, arrayz))\n",
    "reshape = np.reshape(arrayaz, (10, 4))\n",
    "print(combined_array)\n",
    "print(reshaped_array)\n"
   ]
  },
  {
   "cell_type": "code",
   "execution_count": 43,
   "id": "2174c2f5-3cf9-42a7-a8b5-ed7856b8b6c0",
   "metadata": {},
   "outputs": [
    {
     "name": "stdout",
     "output_type": "stream",
     "text": [
      "[[ 0  9 20 16  9]\n",
      " [ 7 11  1 19  0]\n",
      " [11  7  6 13 14]\n",
      " [12 12  0 11  6]\n",
      " [12  5 13  3  5]]\n",
      "[[14  1 17 13  6]\n",
      " [ 4 16 15 15  9]\n",
      " [ 7 13 11 12  4]\n",
      " [11 15 19  1  1]\n",
      " [ 9 10 11  7 19]]\n"
     ]
    }
   ],
   "source": [
    "print(x)\n",
    "print(y)"
   ]
  }
 ],
 "metadata": {
  "kernelspec": {
   "display_name": "Python 3 (ipykernel)",
   "language": "python",
   "name": "python3"
  },
  "language_info": {
   "codemirror_mode": {
    "name": "ipython",
    "version": 3
   },
   "file_extension": ".py",
   "mimetype": "text/x-python",
   "name": "python",
   "nbconvert_exporter": "python",
   "pygments_lexer": "ipython3",
   "version": "3.11.5"
  }
 },
 "nbformat": 4,
 "nbformat_minor": 5
}
